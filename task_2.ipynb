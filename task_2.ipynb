{
  "nbformat": 4,
  "nbformat_minor": 0,
  "metadata": {
    "colab": {
      "provenance": []
    },
    "kernelspec": {
      "name": "python3",
      "display_name": "Python 3"
    },
    "language_info": {
      "name": "python"
    }
  },
  "cells": [
    {
      "cell_type": "code",
      "execution_count": 1,
      "metadata": {
        "id": "vxs54ACFHvg_"
      },
      "outputs": [],
      "source": [
        "import pandas as pd\n",
        "import folium\n",
        "from folium.plugins import HeatMap"
      ]
    },
    {
      "cell_type": "code",
      "source": [
        "# Load datasets\n",
        "restaurant_df = pd.read_csv(\"/content/drive/MyDrive/learning ml and dl/hacthon/zomato_data.csv\")\n",
        "geo_df = pd.read_csv(\"/content/drive/MyDrive/learning ml and dl/hacthon/Geographical Coordinates.csv\")\n",
        "\n",
        "# Clean rating colum"
      ],
      "metadata": {
        "id": "42aYiITPH23X"
      },
      "execution_count": 9,
      "outputs": []
    },
    {
      "cell_type": "code",
      "source": [
        "merged_df = pd.merge(\n",
        "    restaurant_df,\n",
        "    geo_df,\n",
        "    on=\"listed_incity\",\n",
        "    how=\"left\"\n",
        ").dropna(subset=[\"Latitude\", \"Longitude\"])"
      ],
      "metadata": {
        "id": "tD0WG7KvIOYu"
      },
      "execution_count": 22,
      "outputs": []
    },
    {
      "cell_type": "code",
      "source": [
        "print(merged_df[[\"listed_incity\", \"Latitude\", \"Longitude\"]].isnull().sum())"
      ],
      "metadata": {
        "colab": {
          "base_uri": "https://localhost:8080/"
        },
        "id": "CfypePotLB5m",
        "outputId": "c4a21e30-c1b6-4f5a-8ade-f28330e67da8"
      },
      "execution_count": 11,
      "outputs": [
        {
          "output_type": "stream",
          "name": "stdout",
          "text": [
            "listed_incity       0\n",
            "Latitude         5580\n",
            "Longitude        5580\n",
            "dtype: int64\n"
          ]
        }
      ]
    },
    {
      "cell_type": "code",
      "source": [
        "print(merged_df[[\"listed_incity\", \"Latitude\", \"Longitude\"]].sample(10))"
      ],
      "metadata": {
        "colab": {
          "base_uri": "https://localhost:8080/"
        },
        "id": "4YNdVEUsRj8-",
        "outputId": "d5b5af54-7fac-4197-b655-c094869ded76"
      },
      "execution_count": 26,
      "outputs": [
        {
          "output_type": "stream",
          "name": "stdout",
          "text": [
            "               listed_incity   Latitude  Longitude\n",
            "30146  Koramangala 5th Block  12.934843  77.618977\n",
            "36937  Koramangala 7th Block  12.936485  77.613478\n",
            "21543              Jayanagar  12.939904  77.582638\n",
            "35367  Koramangala 7th Block  12.936485  77.613478\n",
            "7219             Brookefield  12.963814  77.722437\n",
            "18220            Indiranagar  12.996298  77.545278\n",
            "4487               Bellandur  12.925352  77.675941\n",
            "36650  Koramangala 7th Block  12.936485  77.613478\n",
            "30489  Koramangala 5th Block  12.934843  77.618977\n",
            "31244  Koramangala 5th Block  12.934843  77.618977\n"
          ]
        }
      ]
    },
    {
      "source": [
        "merged_df = merged_df.dropna(subset=['rest_type'])"
      ],
      "cell_type": "code",
      "metadata": {
        "id": "X86rGIeBSihW"
      },
      "execution_count": 30,
      "outputs": []
    },
    {
      "cell_type": "code",
      "source": [
        "bangalore_map = folium.Map(location=[12.9716, 77.5946], zoom_start=12)\n",
        "\n",
        "# Add markers (with error handling for invalid coordinates)\n",
        "for _, row in merged_df.iterrows():\n",
        "    try:\n",
        "        folium.Marker(\n",
        "            location=[row[\"Latitude\"], row[\"Longitude\"]],\n",
        "            tooltip=row[\"rest_type\"]\n",
        "        ).add_to(bangalore_map)\n",
        "    except:\n",
        "        print(f\"Skipping invalid coordinates: {row['Latitude']}, {row['Longitude']}\")\n",
        "\n",
        "# Save and open the map\n",
        "bangalore_map.save(\"restaurant_densitymap.html\")"
      ],
      "metadata": {
        "colab": {
          "base_uri": "https://localhost:8080/"
        },
        "id": "ZYfwh2JFLGSh",
        "outputId": "853a3a52-656c-4501-ffce-b98a85fd143b"
      },
      "execution_count": 32,
      "outputs": [
        {
          "output_type": "execute_result",
          "data": {
            "text/plain": [
              "False"
            ]
          },
          "metadata": {},
          "execution_count": 32
        }
      ]
    },
    {
      "cell_type": "code",
      "source": [],
      "metadata": {
        "id": "LUtYY-4qqr-B"
      },
      "execution_count": null,
      "outputs": []
    }
  ]
}